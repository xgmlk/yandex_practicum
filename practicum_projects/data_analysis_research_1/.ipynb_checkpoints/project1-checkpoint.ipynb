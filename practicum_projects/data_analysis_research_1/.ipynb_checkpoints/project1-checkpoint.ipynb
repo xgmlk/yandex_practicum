{
 "cells": [
  {
   "cell_type": "markdown",
   "id": "31a8805c-f332-45af-ba39-efbc28232bf6",
   "metadata": {},
   "source": [
    "# Открываем таблицу и изучаем данные\n",
    "#### Импортируем библеотеку ***pandas*** и читаем таблицу\n",
    "+ В таблице имеются столбцы\n",
    "  1. `children` - количество детей в семье\n",
    "  2. `days_employed` - общий трудовой стаж в днях\n",
    "  3. `dob_years` - возраст клиента в годах\n",
    "  4. `education` - уровень образования клиента\n",
    "  5. `education_id` - идентификатор уровня образования\n",
    "  6. `family_status` - семейное положение\n",
    "  7. `family_status_id` - идентификатор семейного положения\n",
    "  8. `gender` - пол клиента\n",
    "  9. `income_type` - тип занятости\n",
    "  10. `debt` - имел ли задолженность по возврату кредитов\n",
    "  11. `total_income` - ежемесячный доход\n",
    "  12. `purpose` - цель получения кредита\n"
   ]
  },
  {
   "cell_type": "code",
   "execution_count": 24,
   "id": "8606dccc-9a3b-48d8-b8d8-ff07031d63ef",
   "metadata": {
    "scrolled": true
   },
   "outputs": [
    {
     "data": {
      "text/html": [
       "<div>\n",
       "<style scoped>\n",
       "    .dataframe tbody tr th:only-of-type {\n",
       "        vertical-align: middle;\n",
       "    }\n",
       "\n",
       "    .dataframe tbody tr th {\n",
       "        vertical-align: top;\n",
       "    }\n",
       "\n",
       "    .dataframe thead th {\n",
       "        text-align: right;\n",
       "    }\n",
       "</style>\n",
       "<table border=\"1\" class=\"dataframe\">\n",
       "  <thead>\n",
       "    <tr style=\"text-align: right;\">\n",
       "      <th></th>\n",
       "      <th>children</th>\n",
       "      <th>days_employed</th>\n",
       "      <th>dob_years</th>\n",
       "      <th>education</th>\n",
       "      <th>education_id</th>\n",
       "      <th>family_status</th>\n",
       "      <th>family_status_id</th>\n",
       "      <th>gender</th>\n",
       "      <th>income_type</th>\n",
       "      <th>debt</th>\n",
       "      <th>total_income</th>\n",
       "      <th>purpose</th>\n",
       "    </tr>\n",
       "  </thead>\n",
       "  <tbody>\n",
       "    <tr>\n",
       "      <th>0</th>\n",
       "      <td>1</td>\n",
       "      <td>-8437.673028</td>\n",
       "      <td>42</td>\n",
       "      <td>высшее</td>\n",
       "      <td>0</td>\n",
       "      <td>женат / замужем</td>\n",
       "      <td>0</td>\n",
       "      <td>F</td>\n",
       "      <td>сотрудник</td>\n",
       "      <td>0</td>\n",
       "      <td>253875.639453</td>\n",
       "      <td>покупка жилья</td>\n",
       "    </tr>\n",
       "    <tr>\n",
       "      <th>1</th>\n",
       "      <td>1</td>\n",
       "      <td>-4024.803754</td>\n",
       "      <td>36</td>\n",
       "      <td>среднее</td>\n",
       "      <td>1</td>\n",
       "      <td>женат / замужем</td>\n",
       "      <td>0</td>\n",
       "      <td>F</td>\n",
       "      <td>сотрудник</td>\n",
       "      <td>0</td>\n",
       "      <td>112080.014102</td>\n",
       "      <td>приобретение автомобиля</td>\n",
       "    </tr>\n",
       "    <tr>\n",
       "      <th>2</th>\n",
       "      <td>0</td>\n",
       "      <td>-5623.422610</td>\n",
       "      <td>33</td>\n",
       "      <td>Среднее</td>\n",
       "      <td>1</td>\n",
       "      <td>женат / замужем</td>\n",
       "      <td>0</td>\n",
       "      <td>M</td>\n",
       "      <td>сотрудник</td>\n",
       "      <td>0</td>\n",
       "      <td>145885.952297</td>\n",
       "      <td>покупка жилья</td>\n",
       "    </tr>\n",
       "    <tr>\n",
       "      <th>3</th>\n",
       "      <td>3</td>\n",
       "      <td>-4124.747207</td>\n",
       "      <td>32</td>\n",
       "      <td>среднее</td>\n",
       "      <td>1</td>\n",
       "      <td>женат / замужем</td>\n",
       "      <td>0</td>\n",
       "      <td>M</td>\n",
       "      <td>сотрудник</td>\n",
       "      <td>0</td>\n",
       "      <td>267628.550329</td>\n",
       "      <td>дополнительное образование</td>\n",
       "    </tr>\n",
       "    <tr>\n",
       "      <th>4</th>\n",
       "      <td>0</td>\n",
       "      <td>340266.072047</td>\n",
       "      <td>53</td>\n",
       "      <td>среднее</td>\n",
       "      <td>1</td>\n",
       "      <td>гражданский брак</td>\n",
       "      <td>1</td>\n",
       "      <td>F</td>\n",
       "      <td>пенсионер</td>\n",
       "      <td>0</td>\n",
       "      <td>158616.077870</td>\n",
       "      <td>сыграть свадьбу</td>\n",
       "    </tr>\n",
       "    <tr>\n",
       "      <th>5</th>\n",
       "      <td>0</td>\n",
       "      <td>-926.185831</td>\n",
       "      <td>27</td>\n",
       "      <td>высшее</td>\n",
       "      <td>0</td>\n",
       "      <td>гражданский брак</td>\n",
       "      <td>1</td>\n",
       "      <td>M</td>\n",
       "      <td>компаньон</td>\n",
       "      <td>0</td>\n",
       "      <td>255763.565419</td>\n",
       "      <td>покупка жилья</td>\n",
       "    </tr>\n",
       "    <tr>\n",
       "      <th>6</th>\n",
       "      <td>0</td>\n",
       "      <td>-2879.202052</td>\n",
       "      <td>43</td>\n",
       "      <td>высшее</td>\n",
       "      <td>0</td>\n",
       "      <td>женат / замужем</td>\n",
       "      <td>0</td>\n",
       "      <td>F</td>\n",
       "      <td>компаньон</td>\n",
       "      <td>0</td>\n",
       "      <td>240525.971920</td>\n",
       "      <td>операции с жильем</td>\n",
       "    </tr>\n",
       "    <tr>\n",
       "      <th>7</th>\n",
       "      <td>0</td>\n",
       "      <td>-152.779569</td>\n",
       "      <td>50</td>\n",
       "      <td>СРЕДНЕЕ</td>\n",
       "      <td>1</td>\n",
       "      <td>женат / замужем</td>\n",
       "      <td>0</td>\n",
       "      <td>M</td>\n",
       "      <td>сотрудник</td>\n",
       "      <td>0</td>\n",
       "      <td>135823.934197</td>\n",
       "      <td>образование</td>\n",
       "    </tr>\n",
       "    <tr>\n",
       "      <th>8</th>\n",
       "      <td>2</td>\n",
       "      <td>-6929.865299</td>\n",
       "      <td>35</td>\n",
       "      <td>ВЫСШЕЕ</td>\n",
       "      <td>0</td>\n",
       "      <td>гражданский брак</td>\n",
       "      <td>1</td>\n",
       "      <td>F</td>\n",
       "      <td>сотрудник</td>\n",
       "      <td>0</td>\n",
       "      <td>95856.832424</td>\n",
       "      <td>на проведение свадьбы</td>\n",
       "    </tr>\n",
       "    <tr>\n",
       "      <th>9</th>\n",
       "      <td>0</td>\n",
       "      <td>-2188.756445</td>\n",
       "      <td>41</td>\n",
       "      <td>среднее</td>\n",
       "      <td>1</td>\n",
       "      <td>женат / замужем</td>\n",
       "      <td>0</td>\n",
       "      <td>M</td>\n",
       "      <td>сотрудник</td>\n",
       "      <td>0</td>\n",
       "      <td>144425.938277</td>\n",
       "      <td>покупка жилья для семьи</td>\n",
       "    </tr>\n",
       "    <tr>\n",
       "      <th>10</th>\n",
       "      <td>2</td>\n",
       "      <td>-4171.483647</td>\n",
       "      <td>36</td>\n",
       "      <td>высшее</td>\n",
       "      <td>0</td>\n",
       "      <td>женат / замужем</td>\n",
       "      <td>0</td>\n",
       "      <td>M</td>\n",
       "      <td>компаньон</td>\n",
       "      <td>0</td>\n",
       "      <td>113943.491460</td>\n",
       "      <td>покупка недвижимости</td>\n",
       "    </tr>\n",
       "    <tr>\n",
       "      <th>11</th>\n",
       "      <td>0</td>\n",
       "      <td>-792.701887</td>\n",
       "      <td>40</td>\n",
       "      <td>среднее</td>\n",
       "      <td>1</td>\n",
       "      <td>женат / замужем</td>\n",
       "      <td>0</td>\n",
       "      <td>F</td>\n",
       "      <td>сотрудник</td>\n",
       "      <td>0</td>\n",
       "      <td>77069.234271</td>\n",
       "      <td>покупка коммерческой недвижимости</td>\n",
       "    </tr>\n",
       "    <tr>\n",
       "      <th>12</th>\n",
       "      <td>0</td>\n",
       "      <td>NaN</td>\n",
       "      <td>65</td>\n",
       "      <td>среднее</td>\n",
       "      <td>1</td>\n",
       "      <td>гражданский брак</td>\n",
       "      <td>1</td>\n",
       "      <td>M</td>\n",
       "      <td>пенсионер</td>\n",
       "      <td>0</td>\n",
       "      <td>NaN</td>\n",
       "      <td>сыграть свадьбу</td>\n",
       "    </tr>\n",
       "    <tr>\n",
       "      <th>13</th>\n",
       "      <td>0</td>\n",
       "      <td>-1846.641941</td>\n",
       "      <td>54</td>\n",
       "      <td>неоконченное высшее</td>\n",
       "      <td>2</td>\n",
       "      <td>женат / замужем</td>\n",
       "      <td>0</td>\n",
       "      <td>F</td>\n",
       "      <td>сотрудник</td>\n",
       "      <td>0</td>\n",
       "      <td>130458.228857</td>\n",
       "      <td>приобретение автомобиля</td>\n",
       "    </tr>\n",
       "    <tr>\n",
       "      <th>14</th>\n",
       "      <td>0</td>\n",
       "      <td>-1844.956182</td>\n",
       "      <td>56</td>\n",
       "      <td>высшее</td>\n",
       "      <td>0</td>\n",
       "      <td>гражданский брак</td>\n",
       "      <td>1</td>\n",
       "      <td>F</td>\n",
       "      <td>компаньон</td>\n",
       "      <td>1</td>\n",
       "      <td>165127.911772</td>\n",
       "      <td>покупка жилой недвижимости</td>\n",
       "    </tr>\n",
       "  </tbody>\n",
       "</table>\n",
       "</div>"
      ],
      "text/plain": [
       "    children  days_employed  dob_years            education  education_id  \\\n",
       "0          1   -8437.673028         42               высшее             0   \n",
       "1          1   -4024.803754         36              среднее             1   \n",
       "2          0   -5623.422610         33              Среднее             1   \n",
       "3          3   -4124.747207         32              среднее             1   \n",
       "4          0  340266.072047         53              среднее             1   \n",
       "5          0    -926.185831         27               высшее             0   \n",
       "6          0   -2879.202052         43               высшее             0   \n",
       "7          0    -152.779569         50              СРЕДНЕЕ             1   \n",
       "8          2   -6929.865299         35               ВЫСШЕЕ             0   \n",
       "9          0   -2188.756445         41              среднее             1   \n",
       "10         2   -4171.483647         36               высшее             0   \n",
       "11         0    -792.701887         40              среднее             1   \n",
       "12         0            NaN         65              среднее             1   \n",
       "13         0   -1846.641941         54  неоконченное высшее             2   \n",
       "14         0   -1844.956182         56               высшее             0   \n",
       "\n",
       "       family_status  family_status_id gender income_type  debt  \\\n",
       "0    женат / замужем                 0      F   сотрудник     0   \n",
       "1    женат / замужем                 0      F   сотрудник     0   \n",
       "2    женат / замужем                 0      M   сотрудник     0   \n",
       "3    женат / замужем                 0      M   сотрудник     0   \n",
       "4   гражданский брак                 1      F   пенсионер     0   \n",
       "5   гражданский брак                 1      M   компаньон     0   \n",
       "6    женат / замужем                 0      F   компаньон     0   \n",
       "7    женат / замужем                 0      M   сотрудник     0   \n",
       "8   гражданский брак                 1      F   сотрудник     0   \n",
       "9    женат / замужем                 0      M   сотрудник     0   \n",
       "10   женат / замужем                 0      M   компаньон     0   \n",
       "11   женат / замужем                 0      F   сотрудник     0   \n",
       "12  гражданский брак                 1      M   пенсионер     0   \n",
       "13   женат / замужем                 0      F   сотрудник     0   \n",
       "14  гражданский брак                 1      F   компаньон     1   \n",
       "\n",
       "     total_income                            purpose  \n",
       "0   253875.639453                      покупка жилья  \n",
       "1   112080.014102            приобретение автомобиля  \n",
       "2   145885.952297                      покупка жилья  \n",
       "3   267628.550329         дополнительное образование  \n",
       "4   158616.077870                    сыграть свадьбу  \n",
       "5   255763.565419                      покупка жилья  \n",
       "6   240525.971920                  операции с жильем  \n",
       "7   135823.934197                        образование  \n",
       "8    95856.832424              на проведение свадьбы  \n",
       "9   144425.938277            покупка жилья для семьи  \n",
       "10  113943.491460               покупка недвижимости  \n",
       "11   77069.234271  покупка коммерческой недвижимости  \n",
       "12            NaN                    сыграть свадьбу  \n",
       "13  130458.228857            приобретение автомобиля  \n",
       "14  165127.911772         покупка жилой недвижимости  "
      ]
     },
     "execution_count": 24,
     "metadata": {},
     "output_type": "execute_result"
    }
   ],
   "source": [
    "import pandas as pd\n",
    "df = pd.read_csv('data.csv')\n",
    "df.head(15)"
   ]
  },
  {
   "cell_type": "markdown",
   "id": "fd129b98-e978-4851-8b46-15f5626a367d",
   "metadata": {},
   "source": [
    "# Предобработка данных\n",
    "При беглом просмотре таблицы сразу видны пропущенные значения в стоблцах `total_income` и `days_employed`,<br>\n",
    "так же минусовые значения в `days_employed` и дубликаты с разным регистром строк в `education`"
   ]
  },
  {
   "cell_type": "markdown",
   "id": "8373adbd-bf22-4961-82c0-ef7e7e879751",
   "metadata": {
    "scrolled": true
   },
   "source": [
    "Функция для проверки количества ячеек `NaN` в выбранном столбце"
   ]
  },
  {
   "cell_type": "code",
   "execution_count": 2,
   "id": "6c178089-bd0e-4254-91b8-e23631c897a2",
   "metadata": {
    "scrolled": true
   },
   "outputs": [
    {
     "data": {
      "text/plain": [
       "2174"
      ]
     },
     "execution_count": 2,
     "metadata": {},
     "output_type": "execute_result"
    }
   ],
   "source": [
    "\n",
    "def count_na (data,column):\n",
    "    x = 0\n",
    "    for index in data[column].isna():\n",
    "        if index == True:\n",
    "            x += 1\n",
    "    return x\n",
    "\n",
    "count_na(df, 'total_income')"
   ]
  },
  {
   "cell_type": "markdown",
   "id": "832239b6-8910-4a53-ab4f-7bc9e1fa9b1f",
   "metadata": {},
   "source": [
    "**2174** `NaN` в столбце `total_income`"
   ]
  },
  {
   "cell_type": "markdown",
   "id": "d3e679d9-6072-48eb-9f17-6303b68c1613",
   "metadata": {},
   "source": [
    "Проверяем есть ли какие то закономерности в этих пропущенных значениях. <br>\n",
    "В таблице видно что пропуск в `total_income`, сопровождается пропуском и в `days_employed`.<br>\n",
    "Проверим, действительно ли пропуски встречаются сразу в обоих столбцах и на одной строке"
   ]
  },
  {
   "cell_type": "code",
   "execution_count": 3,
   "id": "34298c58-b02a-4d3c-8047-3ac683ee421b",
   "metadata": {},
   "outputs": [
    {
     "data": {
      "text/plain": [
       "total_income     2174\n",
       "days_employed    2174\n",
       "dtype: int64"
      ]
     },
     "execution_count": 3,
     "metadata": {},
     "output_type": "execute_result"
    }
   ],
   "source": [
    "nans = df[['total_income', 'days_employed']]\n",
    "nans[(nans['total_income'].isna() == True)&(nans['days_employed'].isna() == True)].isna().sum()"
   ]
  },
  {
   "cell_type": "markdown",
   "id": "a9d2ad4f-8a41-4c3f-b24c-17cd1e2ff7f8",
   "metadata": {},
   "source": [
    "Мы создали новую таблицу из столбцов `total_income` и `days_employed`.<br>\n",
    "Затем с помощью условия оставили только те строки в которых значение пропущенно в обеих столбцах, и суммировали каждую строку.<br>\n",
    "Мы узнали что количество `NaN` равно друг другу, соотвественно значения пропущенны сразу в обоих столбцах одновеменно"
   ]
  },
  {
   "cell_type": "markdown",
   "id": "403cadfc-86ff-4907-bfbe-3277cd29767f",
   "metadata": {},
   "source": [
    "Пропуски могут быть связны по нескольким причинам:\n",
    "- Человек не имеет официальной работы\n",
    "- Данные не подлежат разглашению (сомнительно)\n",
    "- Данные не указанны намеренно"
   ]
  },
  {
   "cell_type": "markdown",
   "id": "f3a910a7-4a02-42ec-b9fb-7adb5b79604d",
   "metadata": {},
   "source": [
    "Узнаем долю пропущенных значений `total_income`"
   ]
  },
  {
   "cell_type": "code",
   "execution_count": 4,
   "id": "bd8fc97c-be39-4017-be30-05ccc2e486cd",
   "metadata": {},
   "outputs": [
    {
     "name": "stdout",
     "output_type": "stream",
     "text": [
      "Доля пропущенных значений income_total: 11.2%\n"
     ]
    }
   ],
   "source": [
    "income_na_sum = count_na(df, 'total_income')\n",
    "proportion_income_na = income_na_sum / df['total_income'].count()\n",
    "\n",
    "print('Доля пропущенных значений income_total: {:.1%}'.format(proportion_income_na))"
   ]
  },
  {
   "attachments": {},
   "cell_type": "markdown",
   "id": "d449772b-994a-456a-981d-251db2500e02",
   "metadata": {},
   "source": [
    "Если удалить строки с пропущенными значениями, они занчительно повлияют на результат исследования, необходимо заполнить пропущенные значения `total_income`.<br> Для начала выясним почему заполнить средним арифметическим будет \n",
    "не корректно"
   ]
  },
  {
   "cell_type": "code",
   "execution_count": 5,
   "id": "2ed8c915-f956-4636-9440-f4298055d67f",
   "metadata": {},
   "outputs": [],
   "source": [
    "income_min = df['total_income'].min()\n",
    "income_max = df['total_income'].max()\n",
    "income_mean = df['total_income'].mean()\n",
    "\n",
    "tot_inc = df['total_income']\n",
    "tot_inc = tot_inc.sort_values()\n",
    "min_to_mean = tot_inc.loc[(income_min<=tot_inc) & (tot_inc<=income_mean)]\n",
    "mean_to_max = tot_inc.loc[(income_mean<=tot_inc) & (tot_inc<=income_max)]"
   ]
  },
  {
   "cell_type": "markdown",
   "id": "67dad21d-b304-4711-96e7-4eef75958a7f",
   "metadata": {},
   "source": [
    "Считаем количество отсортированных значений от меньшего к большему до среднего арифметического по списку, и так же от среднего арифметического до самого большого значения."
   ]
  },
  {
   "cell_type": "code",
   "execution_count": 26,
   "id": "be7fa824-53d5-4d4c-9f2a-9c921408b739",
   "metadata": {},
   "outputs": [
    {
     "name": "stdout",
     "output_type": "stream",
     "text": [
      "От меньшего к среднему: 11892\n",
      "От среднего к большему: 7459\n",
      "Сумма от меньшего к среднему: 1324462496.5481179\n",
      "Сумма от среднего к большему: 1915326473.4822369\n"
     ]
    }
   ],
   "source": [
    "print('От меньшего к среднему: {}'.format(min_to_mean.count())) #13835\n",
    "print('От среднего к большему: {}'.format(mean_to_max.count())) #7690\n",
    "\n",
    "print('Сумма от меньшего к среднему: {}'.format(min_to_mean.sum())) #1601330703.9787133\n",
    "print('Сумма от среднего к большему: {}'.format(mean_to_max.sum())) #1953727262.2473834"
   ]
  },
  {
   "attachments": {},
   "cell_type": "markdown",
   "id": "6fc6d907-516f-4230-b503-4d7431883ee2",
   "metadata": {},
   "source": [
    "В итоге: \n",
    "- Сумма значений меньше среднего, больше, чем значений больше среднего.<br>\n",
    "- При этом сумма значений отличается, получается что меньшее количество человек имеет больший доход, чем остальное большинство,<br> \n",
    "соответственно в этом случае будет корректней заменить пропуски на медианное число, так как в этом случае  мы получим ровно средний доход среди всех клиентов."
   ]
  },
  {
   "attachments": {},
   "cell_type": "markdown",
   "id": "cdc20a42-5ee1-4df6-aa49-057c5620d4fc",
   "metadata": {},
   "source": [
    "Создаем переменную `income_median`, в которую записываем медианное значение по столбцу `total_income` , \n",
    "затем заполняем все значения `NaN` в столбце `total_income` на медианное значение\n",
    "\n",
    "Проверяем заполнились ли значения `NaN`"
   ]
  },
  {
   "cell_type": "code",
   "execution_count": 27,
   "id": "07cfd9f4-d87e-40ed-aafc-e4c4f59714b6",
   "metadata": {},
   "outputs": [
    {
     "data": {
      "text/plain": [
       "0"
      ]
     },
     "execution_count": 27,
     "metadata": {},
     "output_type": "execute_result"
    }
   ],
   "source": [
    "income_median = df['total_income'].median() #145017.937533\n",
    "df['total_income'] = df['total_income'].fillna(income_median)\n",
    "\n",
    "count_na(df, 'total_income')"
   ]
  },
  {
   "cell_type": "markdown",
   "id": "4f5bd66b-c4dc-48fe-82d8-d19d69962e34",
   "metadata": {},
   "source": [
    "Большинство значений в столбце `days_employed` отрицательные, заменим их на противоположные числа простой формулой, умножив все отрицательные числа на **-1**, так же отрицательные числа были обнаруженны в столбце `children`, их заменим на **0**"
   ]
  },
  {
   "cell_type": "code",
   "execution_count": 10,
   "id": "29832fda-eaa6-405c-8962-0759a815d448",
   "metadata": {
    "scrolled": true
   },
   "outputs": [
    {
     "data": {
      "text/html": [
       "<div>\n",
       "<style scoped>\n",
       "    .dataframe tbody tr th:only-of-type {\n",
       "        vertical-align: middle;\n",
       "    }\n",
       "\n",
       "    .dataframe tbody tr th {\n",
       "        vertical-align: top;\n",
       "    }\n",
       "\n",
       "    .dataframe thead th {\n",
       "        text-align: right;\n",
       "    }\n",
       "</style>\n",
       "<table border=\"1\" class=\"dataframe\">\n",
       "  <thead>\n",
       "    <tr style=\"text-align: right;\">\n",
       "      <th></th>\n",
       "      <th>days_employed</th>\n",
       "      <th>children</th>\n",
       "    </tr>\n",
       "  </thead>\n",
       "  <tbody>\n",
       "    <tr>\n",
       "      <th>0</th>\n",
       "      <td>8437.673028</td>\n",
       "      <td>1</td>\n",
       "    </tr>\n",
       "    <tr>\n",
       "      <th>1</th>\n",
       "      <td>4024.803754</td>\n",
       "      <td>1</td>\n",
       "    </tr>\n",
       "    <tr>\n",
       "      <th>2</th>\n",
       "      <td>5623.422610</td>\n",
       "      <td>0</td>\n",
       "    </tr>\n",
       "    <tr>\n",
       "      <th>3</th>\n",
       "      <td>4124.747207</td>\n",
       "      <td>3</td>\n",
       "    </tr>\n",
       "    <tr>\n",
       "      <th>4</th>\n",
       "      <td>340266.072047</td>\n",
       "      <td>0</td>\n",
       "    </tr>\n",
       "    <tr>\n",
       "      <th>5</th>\n",
       "      <td>926.185831</td>\n",
       "      <td>0</td>\n",
       "    </tr>\n",
       "    <tr>\n",
       "      <th>6</th>\n",
       "      <td>2879.202052</td>\n",
       "      <td>0</td>\n",
       "    </tr>\n",
       "    <tr>\n",
       "      <th>7</th>\n",
       "      <td>152.779569</td>\n",
       "      <td>0</td>\n",
       "    </tr>\n",
       "    <tr>\n",
       "      <th>8</th>\n",
       "      <td>6929.865299</td>\n",
       "      <td>2</td>\n",
       "    </tr>\n",
       "    <tr>\n",
       "      <th>9</th>\n",
       "      <td>2188.756445</td>\n",
       "      <td>0</td>\n",
       "    </tr>\n",
       "  </tbody>\n",
       "</table>\n",
       "</div>"
      ],
      "text/plain": [
       "   days_employed  children\n",
       "0    8437.673028         1\n",
       "1    4024.803754         1\n",
       "2    5623.422610         0\n",
       "3    4124.747207         3\n",
       "4  340266.072047         0\n",
       "5     926.185831         0\n",
       "6    2879.202052         0\n",
       "7     152.779569         0\n",
       "8    6929.865299         2\n",
       "9    2188.756445         0"
      ]
     },
     "execution_count": 10,
     "metadata": {},
     "output_type": "execute_result"
    }
   ],
   "source": [
    "df.loc[df['days_employed'] < 0, 'days_employed'] *= -1\n",
    "df.loc[df['children'] < 0, 'children'] = 0\n",
    "df[['days_employed', 'children']].head(10)"
   ]
  },
  {
   "cell_type": "markdown",
   "id": "b150bec3-98df-4208-a747-b165bb961cff",
   "metadata": {},
   "source": [
    "Возможно по какой то причине значения `days_employed` изначально были отрицательными и из за этого при прибавлении дней стажа в таблицу, увеличивалось отрицательное число, так же и значения `children` могли быть записанны неправильно по ошибке"
   ]
  },
  {
   "cell_type": "markdown",
   "id": "a8228379-a3f4-48ea-aa72-8368725d7b5b",
   "metadata": {},
   "source": [
    "Заменим тип данных в столбце `total_income` на целочисленные для удобства и наглядности, сейчас у столбца тип данных: **число с плавающей точкой**"
   ]
  },
  {
   "cell_type": "code",
   "execution_count": 36,
   "id": "09d83d4d-be76-4c5d-8858-e6b006324b52",
   "metadata": {},
   "outputs": [],
   "source": [
    "df['total_income'] = df['total_income'].astype('int64')"
   ]
  },
  {
   "cell_type": "code",
   "execution_count": 37,
   "id": "925e6bba-3093-4340-b6c4-f6e68ae93509",
   "metadata": {},
   "outputs": [
    {
     "data": {
      "text/plain": [
       "dtype('int64')"
      ]
     },
     "execution_count": 37,
     "metadata": {},
     "output_type": "execute_result"
    }
   ],
   "source": [
    "df['total_income'].dtype"
   ]
  },
  {
   "cell_type": "markdown",
   "id": "e4e1029f-92dd-4443-b1d6-9f93454bd219",
   "metadata": {},
   "source": [
    "Столбец `total_income` теперь имеет **целочисленный** тип данных"
   ]
  },
  {
   "cell_type": "markdown",
   "id": "daec16d4-71e0-4638-a8e4-1c01ddc5515c",
   "metadata": {},
   "source": [
    "Проверяем всю таблицу на наличие дубликатов"
   ]
  },
  {
   "cell_type": "code",
   "execution_count": 14,
   "id": "9c7e490a-04f5-4dd4-b266-e176eb7e340a",
   "metadata": {
    "scrolled": true
   },
   "outputs": [
    {
     "name": "stdout",
     "output_type": "stream",
     "text": [
      "education\n",
      "['высшее' 'среднее' 'Среднее' 'СРЕДНЕЕ' 'ВЫСШЕЕ' 'неоконченное высшее'\n",
      " 'начальное' 'Высшее' 'НЕОКОНЧЕННОЕ ВЫСШЕЕ' 'Неоконченное высшее'\n",
      " 'НАЧАЛЬНОЕ' 'Начальное' 'Ученая степень' 'УЧЕНАЯ СТЕПЕНЬ'\n",
      " 'ученая степень']\n",
      "____________________\n",
      "family_status\n",
      "['женат / замужем' 'гражданский брак' 'вдовец / вдова' 'в разводе'\n",
      " 'Не женат / не замужем']\n",
      "____________________\n",
      "income_type\n",
      "['сотрудник' 'пенсионер' 'компаньон' 'госслужащий' 'безработный'\n",
      " 'предприниматель' 'студент' 'в декрете']\n",
      "____________________\n",
      "purpose\n",
      "['покупка жилья' 'приобретение автомобиля' 'дополнительное образование'\n",
      " 'сыграть свадьбу' 'операции с жильем' 'образование'\n",
      " 'на проведение свадьбы' 'покупка жилья для семьи' 'покупка недвижимости'\n",
      " 'покупка коммерческой недвижимости' 'покупка жилой недвижимости'\n",
      " 'строительство собственной недвижимости' 'недвижимость'\n",
      " 'строительство недвижимости' 'на покупку подержанного автомобиля'\n",
      " 'на покупку своего автомобиля' 'операции с коммерческой недвижимостью'\n",
      " 'строительство жилой недвижимости' 'жилье'\n",
      " 'операции со своей недвижимостью' 'автомобили' 'заняться образованием'\n",
      " 'сделка с подержанным автомобилем' 'получение образования' 'автомобиль'\n",
      " 'свадьба' 'получение дополнительного образования' 'покупка своего жилья'\n",
      " 'операции с недвижимостью' 'получение высшего образования'\n",
      " 'свой автомобиль' 'сделка с автомобилем' 'профильное образование'\n",
      " 'высшее образование' 'покупка жилья для сдачи' 'на покупку автомобиля'\n",
      " 'ремонт жилью' 'заняться высшим образованием']\n"
     ]
    }
   ],
   "source": [
    "print('education')\n",
    "print(df['education'].unique())\n",
    "print('____________________')\n",
    "print('family_status')\n",
    "print(df['family_status'].unique())\n",
    "print('____________________')\n",
    "print('income_type')\n",
    "print(df['income_type'].unique())\n",
    "print('____________________')\n",
    "print('purpose')\n",
    "print(df['purpose'].unique())"
   ]
  },
  {
   "cell_type": "markdown",
   "id": "c71b04d6-6812-46b9-b032-db9b4a2dc7d7",
   "metadata": {},
   "source": [
    "Убираем явные дубликаты в столбце ***education***"
   ]
  },
  {
   "cell_type": "code",
   "execution_count": 15,
   "id": "ccf5ac1c-a206-4985-bd4a-6306ba4b9eeb",
   "metadata": {},
   "outputs": [],
   "source": [
    "df['education'] = df['education'].str.lower()"
   ]
  },
  {
   "cell_type": "markdown",
   "id": "56465a3e-021b-4d91-bd8d-abb32d574e79",
   "metadata": {},
   "source": [
    "С помощью метода `.unique()` мы смогли обнаружить дубликаты. В столбце `education` нам понадобился метод `str.lower()`, что-бы привести все строки к одному регистру"
   ]
  },
  {
   "cell_type": "markdown",
   "id": "e7d568e9-aebd-4925-8cbc-866fce62d1a0",
   "metadata": {},
   "source": [
    "Удаляем стобцы `education` и `family_status` из таблицы, предварительно создав две другие таблицы с теми же столбцами и их ***id***,<br>\n",
    "таким образом получаем два **\"словаря\"**"
   ]
  },
  {
   "cell_type": "code",
   "execution_count": 16,
   "id": "96427a31-4abd-4996-b412-2b9632e4d1f7",
   "metadata": {
    "scrolled": true
   },
   "outputs": [
    {
     "data": {
      "text/html": [
       "<div>\n",
       "<style scoped>\n",
       "    .dataframe tbody tr th:only-of-type {\n",
       "        vertical-align: middle;\n",
       "    }\n",
       "\n",
       "    .dataframe tbody tr th {\n",
       "        vertical-align: top;\n",
       "    }\n",
       "\n",
       "    .dataframe thead th {\n",
       "        text-align: right;\n",
       "    }\n",
       "</style>\n",
       "<table border=\"1\" class=\"dataframe\">\n",
       "  <thead>\n",
       "    <tr style=\"text-align: right;\">\n",
       "      <th></th>\n",
       "      <th>children</th>\n",
       "      <th>days_employed</th>\n",
       "      <th>dob_years</th>\n",
       "      <th>education_id</th>\n",
       "      <th>family_status_id</th>\n",
       "      <th>gender</th>\n",
       "      <th>income_type</th>\n",
       "      <th>debt</th>\n",
       "      <th>total_income</th>\n",
       "      <th>purpose</th>\n",
       "    </tr>\n",
       "  </thead>\n",
       "  <tbody>\n",
       "    <tr>\n",
       "      <th>0</th>\n",
       "      <td>1</td>\n",
       "      <td>8437.673028</td>\n",
       "      <td>42</td>\n",
       "      <td>0</td>\n",
       "      <td>0</td>\n",
       "      <td>F</td>\n",
       "      <td>сотрудник</td>\n",
       "      <td>0</td>\n",
       "      <td>253875</td>\n",
       "      <td>покупка жилья</td>\n",
       "    </tr>\n",
       "    <tr>\n",
       "      <th>1</th>\n",
       "      <td>1</td>\n",
       "      <td>4024.803754</td>\n",
       "      <td>36</td>\n",
       "      <td>1</td>\n",
       "      <td>0</td>\n",
       "      <td>F</td>\n",
       "      <td>сотрудник</td>\n",
       "      <td>0</td>\n",
       "      <td>112080</td>\n",
       "      <td>приобретение автомобиля</td>\n",
       "    </tr>\n",
       "    <tr>\n",
       "      <th>2</th>\n",
       "      <td>0</td>\n",
       "      <td>5623.422610</td>\n",
       "      <td>33</td>\n",
       "      <td>1</td>\n",
       "      <td>0</td>\n",
       "      <td>M</td>\n",
       "      <td>сотрудник</td>\n",
       "      <td>0</td>\n",
       "      <td>145885</td>\n",
       "      <td>покупка жилья</td>\n",
       "    </tr>\n",
       "    <tr>\n",
       "      <th>3</th>\n",
       "      <td>3</td>\n",
       "      <td>4124.747207</td>\n",
       "      <td>32</td>\n",
       "      <td>1</td>\n",
       "      <td>0</td>\n",
       "      <td>M</td>\n",
       "      <td>сотрудник</td>\n",
       "      <td>0</td>\n",
       "      <td>267628</td>\n",
       "      <td>дополнительное образование</td>\n",
       "    </tr>\n",
       "    <tr>\n",
       "      <th>4</th>\n",
       "      <td>0</td>\n",
       "      <td>340266.072047</td>\n",
       "      <td>53</td>\n",
       "      <td>1</td>\n",
       "      <td>1</td>\n",
       "      <td>F</td>\n",
       "      <td>пенсионер</td>\n",
       "      <td>0</td>\n",
       "      <td>158616</td>\n",
       "      <td>сыграть свадьбу</td>\n",
       "    </tr>\n",
       "    <tr>\n",
       "      <th>...</th>\n",
       "      <td>...</td>\n",
       "      <td>...</td>\n",
       "      <td>...</td>\n",
       "      <td>...</td>\n",
       "      <td>...</td>\n",
       "      <td>...</td>\n",
       "      <td>...</td>\n",
       "      <td>...</td>\n",
       "      <td>...</td>\n",
       "      <td>...</td>\n",
       "    </tr>\n",
       "    <tr>\n",
       "      <th>21520</th>\n",
       "      <td>1</td>\n",
       "      <td>4529.316663</td>\n",
       "      <td>43</td>\n",
       "      <td>1</td>\n",
       "      <td>1</td>\n",
       "      <td>F</td>\n",
       "      <td>компаньон</td>\n",
       "      <td>0</td>\n",
       "      <td>224791</td>\n",
       "      <td>операции с жильем</td>\n",
       "    </tr>\n",
       "    <tr>\n",
       "      <th>21521</th>\n",
       "      <td>0</td>\n",
       "      <td>343937.404131</td>\n",
       "      <td>67</td>\n",
       "      <td>1</td>\n",
       "      <td>0</td>\n",
       "      <td>F</td>\n",
       "      <td>пенсионер</td>\n",
       "      <td>0</td>\n",
       "      <td>155999</td>\n",
       "      <td>сделка с автомобилем</td>\n",
       "    </tr>\n",
       "    <tr>\n",
       "      <th>21522</th>\n",
       "      <td>1</td>\n",
       "      <td>2113.346888</td>\n",
       "      <td>38</td>\n",
       "      <td>1</td>\n",
       "      <td>1</td>\n",
       "      <td>M</td>\n",
       "      <td>сотрудник</td>\n",
       "      <td>1</td>\n",
       "      <td>89672</td>\n",
       "      <td>недвижимость</td>\n",
       "    </tr>\n",
       "    <tr>\n",
       "      <th>21523</th>\n",
       "      <td>3</td>\n",
       "      <td>3112.481705</td>\n",
       "      <td>38</td>\n",
       "      <td>1</td>\n",
       "      <td>0</td>\n",
       "      <td>M</td>\n",
       "      <td>сотрудник</td>\n",
       "      <td>1</td>\n",
       "      <td>244093</td>\n",
       "      <td>на покупку своего автомобиля</td>\n",
       "    </tr>\n",
       "    <tr>\n",
       "      <th>21524</th>\n",
       "      <td>2</td>\n",
       "      <td>1984.507589</td>\n",
       "      <td>40</td>\n",
       "      <td>1</td>\n",
       "      <td>0</td>\n",
       "      <td>F</td>\n",
       "      <td>сотрудник</td>\n",
       "      <td>0</td>\n",
       "      <td>82047</td>\n",
       "      <td>на покупку автомобиля</td>\n",
       "    </tr>\n",
       "  </tbody>\n",
       "</table>\n",
       "<p>21525 rows × 10 columns</p>\n",
       "</div>"
      ],
      "text/plain": [
       "       children  days_employed  dob_years  education_id  family_status_id  \\\n",
       "0             1    8437.673028         42             0                 0   \n",
       "1             1    4024.803754         36             1                 0   \n",
       "2             0    5623.422610         33             1                 0   \n",
       "3             3    4124.747207         32             1                 0   \n",
       "4             0  340266.072047         53             1                 1   \n",
       "...         ...            ...        ...           ...               ...   \n",
       "21520         1    4529.316663         43             1                 1   \n",
       "21521         0  343937.404131         67             1                 0   \n",
       "21522         1    2113.346888         38             1                 1   \n",
       "21523         3    3112.481705         38             1                 0   \n",
       "21524         2    1984.507589         40             1                 0   \n",
       "\n",
       "      gender income_type  debt  total_income                       purpose  \n",
       "0          F   сотрудник     0        253875                 покупка жилья  \n",
       "1          F   сотрудник     0        112080       приобретение автомобиля  \n",
       "2          M   сотрудник     0        145885                 покупка жилья  \n",
       "3          M   сотрудник     0        267628    дополнительное образование  \n",
       "4          F   пенсионер     0        158616               сыграть свадьбу  \n",
       "...      ...         ...   ...           ...                           ...  \n",
       "21520      F   компаньон     0        224791             операции с жильем  \n",
       "21521      F   пенсионер     0        155999          сделка с автомобилем  \n",
       "21522      M   сотрудник     1         89672                  недвижимость  \n",
       "21523      M   сотрудник     1        244093  на покупку своего автомобиля  \n",
       "21524      F   сотрудник     0         82047         на покупку автомобиля  \n",
       "\n",
       "[21525 rows x 10 columns]"
      ]
     },
     "execution_count": 16,
     "metadata": {},
     "output_type": "execute_result"
    }
   ],
   "source": [
    "df_education = df[['education_id', 'education']]\n",
    "df_family_status = df[['family_status_id', 'family_status']].drop_duplicates().reset_index(drop=True)\n",
    "df.drop(['education', 'family_status'], axis=1, inplace=True)\n",
    "df"
   ]
  },
  {
   "cell_type": "markdown",
   "id": "c2d7673e-fe46-4bb4-95a7-6e407027048b",
   "metadata": {},
   "source": [
    "Добавляем в таблицу `df` новый столбец `total_income_category`, в который входят оценки дохода людей от \"A\" до \"E\""
   ]
  },
  {
   "cell_type": "code",
   "execution_count": 17,
   "id": "e70493f7-0574-4224-8c18-4b0379390461",
   "metadata": {},
   "outputs": [],
   "source": [
    "df['total_income_category'] = df.loc[df['total_income'] <= 30000, 'total_income_category'] = 'E'\n",
    "df.loc[(df['total_income'] > 30000)&(df['total_income'] <= 50000), 'total_income_category' ] = 'D'\n",
    "df.loc[(df['total_income'] > 50000)&(df['total_income'] <= 200000), 'total_income_category' ] = 'C'\n",
    "df.loc[(df['total_income'] > 200000)&(df['total_income'] <= 1000000), 'total_income_category' ] = 'B'\n",
    "df.loc[df['total_income'] > 1000000, 'total_income_category'] = 'A'"
   ]
  },
  {
   "cell_type": "markdown",
   "id": "84fc8a76-5156-4c88-abdc-e4d57f19ca1f",
   "metadata": {},
   "source": [
    "Создаем функцию которая возвращает категорию цели кредита в зависимости от строки"
   ]
  },
  {
   "cell_type": "code",
   "execution_count": 18,
   "id": "dd6c3081-4c46-4e48-b7b7-b5d163435244",
   "metadata": {},
   "outputs": [],
   "source": [
    "purpose_house = df[df['purpose'].str.contains('|'.join(['жиль','недвиж']))]['purpose'].drop_duplicates().reset_index(drop=True)\n",
    "purpose_auto = df[df['purpose'].str.contains('авто')]['purpose'].drop_duplicates().reset_index(drop=True)\n",
    "purpose_marry = df[df['purpose'].str.contains('свадьб')]['purpose'].drop_duplicates().reset_index(drop=True)\n",
    "#purpose_study = df[df['purpose'].str.contains('|'.join(['образв','занят','допол','получ','проф','выс']))].drop_duplicates().reset_index(drop=True)\n",
    "def purpose_group (purp):\n",
    "    for hos in purpose_house:\n",
    "        if purp in hos:\n",
    "            return 'операции с недвижимостью'\n",
    "    for au in purpose_auto:\n",
    "        if purp in au:\n",
    "            return 'операции с автомобилем'\n",
    "    for marr in purpose_marry:\n",
    "        if purp in marr:\n",
    "            return 'проведение свадьбы'\n",
    "        return 'получение образования'"
   ]
  },
  {
   "cell_type": "markdown",
   "id": "b27a01cc-0697-45a9-9335-4f40c9b5e4ec",
   "metadata": {},
   "source": [
    "Создаем столбец `purpose_category`, в который записываем категории столбца `purpose` с помощью функции выше"
   ]
  },
  {
   "cell_type": "code",
   "execution_count": 19,
   "id": "2af37dab-92d7-4e7e-a68c-20792637cd93",
   "metadata": {},
   "outputs": [],
   "source": [
    "df['purpose_category'] = df['purpose'].apply(purpose_group)"
   ]
  },
  {
   "cell_type": "markdown",
   "id": "d76fa298-c6c8-4115-9096-4c06678465d4",
   "metadata": {},
   "source": [
    "# Основыные вопросы: \n",
    "1. Есть ли зависимость между количеством детей и возвратом кредита в срок?\n",
    "2. Есть ли зависимость между семейным положением и возвратом кредита в срок?\n",
    "3. Есть ли зависимость между уровнем дохода и возвратом кредита в срок?\n",
    "4. Как разные цели кредита влияют на его возврат в срок?"
   ]
  },
  {
   "cell_type": "markdown",
   "id": "fb1605e9-59f0-4dbe-99f2-6b5e55f51227",
   "metadata": {},
   "source": [
    "Проверяем зависимость между количеством детей и возвратом кредита в срок"
   ]
  },
  {
   "cell_type": "code",
   "execution_count": 20,
   "id": "e0eb1e07-20c5-4278-9f05-4dca27a19995",
   "metadata": {},
   "outputs": [
    {
     "data": {
      "text/html": [
       "<div>\n",
       "<style scoped>\n",
       "    .dataframe tbody tr th:only-of-type {\n",
       "        vertical-align: middle;\n",
       "    }\n",
       "\n",
       "    .dataframe tbody tr th {\n",
       "        vertical-align: top;\n",
       "    }\n",
       "\n",
       "    .dataframe thead tr th {\n",
       "        text-align: left;\n",
       "    }\n",
       "\n",
       "    .dataframe thead tr:last-of-type th {\n",
       "        text-align: right;\n",
       "    }\n",
       "</style>\n",
       "<table border=\"1\" class=\"dataframe\">\n",
       "  <thead>\n",
       "    <tr>\n",
       "      <th></th>\n",
       "      <th>mean</th>\n",
       "      <th>sum</th>\n",
       "    </tr>\n",
       "    <tr>\n",
       "      <th></th>\n",
       "      <th>debt</th>\n",
       "      <th>debt</th>\n",
       "    </tr>\n",
       "    <tr>\n",
       "      <th>children</th>\n",
       "      <th></th>\n",
       "      <th></th>\n",
       "    </tr>\n",
       "  </thead>\n",
       "  <tbody>\n",
       "    <tr>\n",
       "      <th>0</th>\n",
       "      <td>0.074951</td>\n",
       "      <td>1064</td>\n",
       "    </tr>\n",
       "    <tr>\n",
       "      <th>1</th>\n",
       "      <td>0.092154</td>\n",
       "      <td>444</td>\n",
       "    </tr>\n",
       "    <tr>\n",
       "      <th>2</th>\n",
       "      <td>0.094404</td>\n",
       "      <td>194</td>\n",
       "    </tr>\n",
       "    <tr>\n",
       "      <th>3</th>\n",
       "      <td>0.081818</td>\n",
       "      <td>27</td>\n",
       "    </tr>\n",
       "    <tr>\n",
       "      <th>4</th>\n",
       "      <td>0.097561</td>\n",
       "      <td>4</td>\n",
       "    </tr>\n",
       "    <tr>\n",
       "      <th>5</th>\n",
       "      <td>0.000000</td>\n",
       "      <td>0</td>\n",
       "    </tr>\n",
       "    <tr>\n",
       "      <th>20</th>\n",
       "      <td>0.105263</td>\n",
       "      <td>8</td>\n",
       "    </tr>\n",
       "  </tbody>\n",
       "</table>\n",
       "</div>"
      ],
      "text/plain": [
       "              mean   sum\n",
       "              debt  debt\n",
       "children                \n",
       "0         0.074951  1064\n",
       "1         0.092154   444\n",
       "2         0.094404   194\n",
       "3         0.081818    27\n",
       "4         0.097561     4\n",
       "5         0.000000     0\n",
       "20        0.105263     8"
      ]
     },
     "execution_count": 20,
     "metadata": {},
     "output_type": "execute_result"
    }
   ],
   "source": [
    "pd.pivot_table(df, index='children', values='debt', aggfunc=['mean','sum'])"
   ]
  },
  {
   "cell_type": "markdown",
   "id": "e445e5e8-d9b7-40d9-8341-4ee4d4147638",
   "metadata": {},
   "source": [
    "Проверяем зависимость между семейным положением и возвратом кредита в срок"
   ]
  },
  {
   "cell_type": "code",
   "execution_count": 21,
   "id": "1836fc2e-be86-45bb-a03c-461bae790c8d",
   "metadata": {},
   "outputs": [
    {
     "name": "stdout",
     "output_type": "stream",
     "text": [
      "                       family_status_id\n",
      "family_status                          \n",
      "Не женат / не замужем               4.0\n",
      "в разводе                           3.0\n",
      "вдовец / вдова                      2.0\n",
      "гражданский брак                    1.0\n",
      "женат / замужем                     0.0\n"
     ]
    },
    {
     "data": {
      "text/html": [
       "<div>\n",
       "<style scoped>\n",
       "    .dataframe tbody tr th:only-of-type {\n",
       "        vertical-align: middle;\n",
       "    }\n",
       "\n",
       "    .dataframe tbody tr th {\n",
       "        vertical-align: top;\n",
       "    }\n",
       "\n",
       "    .dataframe thead tr th {\n",
       "        text-align: left;\n",
       "    }\n",
       "\n",
       "    .dataframe thead tr:last-of-type th {\n",
       "        text-align: right;\n",
       "    }\n",
       "</style>\n",
       "<table border=\"1\" class=\"dataframe\">\n",
       "  <thead>\n",
       "    <tr>\n",
       "      <th></th>\n",
       "      <th>mean</th>\n",
       "      <th>sum</th>\n",
       "    </tr>\n",
       "    <tr>\n",
       "      <th></th>\n",
       "      <th>debt</th>\n",
       "      <th>debt</th>\n",
       "    </tr>\n",
       "    <tr>\n",
       "      <th>family_status_id</th>\n",
       "      <th></th>\n",
       "      <th></th>\n",
       "    </tr>\n",
       "  </thead>\n",
       "  <tbody>\n",
       "    <tr>\n",
       "      <th>0</th>\n",
       "      <td>0.075202</td>\n",
       "      <td>931</td>\n",
       "    </tr>\n",
       "    <tr>\n",
       "      <th>1</th>\n",
       "      <td>0.092890</td>\n",
       "      <td>388</td>\n",
       "    </tr>\n",
       "    <tr>\n",
       "      <th>2</th>\n",
       "      <td>0.065625</td>\n",
       "      <td>63</td>\n",
       "    </tr>\n",
       "    <tr>\n",
       "      <th>3</th>\n",
       "      <td>0.071130</td>\n",
       "      <td>85</td>\n",
       "    </tr>\n",
       "    <tr>\n",
       "      <th>4</th>\n",
       "      <td>0.097405</td>\n",
       "      <td>274</td>\n",
       "    </tr>\n",
       "  </tbody>\n",
       "</table>\n",
       "</div>"
      ],
      "text/plain": [
       "                      mean  sum\n",
       "                      debt debt\n",
       "family_status_id               \n",
       "0                 0.075202  931\n",
       "1                 0.092890  388\n",
       "2                 0.065625   63\n",
       "3                 0.071130   85\n",
       "4                 0.097405  274"
      ]
     },
     "execution_count": 21,
     "metadata": {},
     "output_type": "execute_result"
    }
   ],
   "source": [
    "print(pd.pivot_table(df_family_status, index='family_status',values='family_status_id'))\n",
    "pd.pivot_table(df, index='family_status_id', values='debt',aggfunc=['mean','sum'])"
   ]
  },
  {
   "cell_type": "markdown",
   "id": "a9f9e203-056d-4b09-80ee-5d5c3182deec",
   "metadata": {},
   "source": [
    "Проверяем зависимость между уровнем дохода и возвратом кредита в срок"
   ]
  },
  {
   "cell_type": "code",
   "execution_count": 22,
   "id": "89b06c06-6e86-4608-b8fd-eeb48c2c211d",
   "metadata": {},
   "outputs": [
    {
     "data": {
      "text/html": [
       "<div>\n",
       "<style scoped>\n",
       "    .dataframe tbody tr th:only-of-type {\n",
       "        vertical-align: middle;\n",
       "    }\n",
       "\n",
       "    .dataframe tbody tr th {\n",
       "        vertical-align: top;\n",
       "    }\n",
       "\n",
       "    .dataframe thead tr th {\n",
       "        text-align: left;\n",
       "    }\n",
       "\n",
       "    .dataframe thead tr:last-of-type th {\n",
       "        text-align: right;\n",
       "    }\n",
       "</style>\n",
       "<table border=\"1\" class=\"dataframe\">\n",
       "  <thead>\n",
       "    <tr>\n",
       "      <th></th>\n",
       "      <th>mean</th>\n",
       "      <th>sum</th>\n",
       "    </tr>\n",
       "    <tr>\n",
       "      <th></th>\n",
       "      <th>debt</th>\n",
       "      <th>debt</th>\n",
       "    </tr>\n",
       "    <tr>\n",
       "      <th>total_income_category</th>\n",
       "      <th></th>\n",
       "      <th></th>\n",
       "    </tr>\n",
       "  </thead>\n",
       "  <tbody>\n",
       "    <tr>\n",
       "      <th>A</th>\n",
       "      <td>0.080000</td>\n",
       "      <td>2</td>\n",
       "    </tr>\n",
       "    <tr>\n",
       "      <th>B</th>\n",
       "      <td>0.070621</td>\n",
       "      <td>356</td>\n",
       "    </tr>\n",
       "    <tr>\n",
       "      <th>C</th>\n",
       "      <td>0.084540</td>\n",
       "      <td>1360</td>\n",
       "    </tr>\n",
       "    <tr>\n",
       "      <th>D</th>\n",
       "      <td>0.060000</td>\n",
       "      <td>21</td>\n",
       "    </tr>\n",
       "    <tr>\n",
       "      <th>E</th>\n",
       "      <td>0.090909</td>\n",
       "      <td>2</td>\n",
       "    </tr>\n",
       "  </tbody>\n",
       "</table>\n",
       "</div>"
      ],
      "text/plain": [
       "                           mean   sum\n",
       "                           debt  debt\n",
       "total_income_category                \n",
       "A                      0.080000     2\n",
       "B                      0.070621   356\n",
       "C                      0.084540  1360\n",
       "D                      0.060000    21\n",
       "E                      0.090909     2"
      ]
     },
     "execution_count": 22,
     "metadata": {},
     "output_type": "execute_result"
    }
   ],
   "source": [
    "pd.pivot_table(df, index='total_income_category', values='debt',aggfunc=['mean','sum'])"
   ]
  },
  {
   "cell_type": "markdown",
   "id": "523540b8-123f-4b60-b213-b77b7d779dc2",
   "metadata": {},
   "source": [
    "Проверяем как разные цели кредита влияют на его возврат в срок"
   ]
  },
  {
   "cell_type": "code",
   "execution_count": 23,
   "id": "e9d9c5a6-50bc-475e-8ee5-6280ea83cfdc",
   "metadata": {},
   "outputs": [
    {
     "data": {
      "text/html": [
       "<div>\n",
       "<style scoped>\n",
       "    .dataframe tbody tr th:only-of-type {\n",
       "        vertical-align: middle;\n",
       "    }\n",
       "\n",
       "    .dataframe tbody tr th {\n",
       "        vertical-align: top;\n",
       "    }\n",
       "\n",
       "    .dataframe thead tr th {\n",
       "        text-align: left;\n",
       "    }\n",
       "\n",
       "    .dataframe thead tr:last-of-type th {\n",
       "        text-align: right;\n",
       "    }\n",
       "</style>\n",
       "<table border=\"1\" class=\"dataframe\">\n",
       "  <thead>\n",
       "    <tr>\n",
       "      <th></th>\n",
       "      <th>mean</th>\n",
       "      <th>sum</th>\n",
       "    </tr>\n",
       "    <tr>\n",
       "      <th></th>\n",
       "      <th>debt</th>\n",
       "      <th>debt</th>\n",
       "    </tr>\n",
       "    <tr>\n",
       "      <th>purpose_category</th>\n",
       "      <th></th>\n",
       "      <th></th>\n",
       "    </tr>\n",
       "  </thead>\n",
       "  <tbody>\n",
       "    <tr>\n",
       "      <th>операции с автомобилем</th>\n",
       "      <td>0.093395</td>\n",
       "      <td>403</td>\n",
       "    </tr>\n",
       "    <tr>\n",
       "      <th>операции с недвижимостью</th>\n",
       "      <td>0.072140</td>\n",
       "      <td>782</td>\n",
       "    </tr>\n",
       "    <tr>\n",
       "      <th>получение образования</th>\n",
       "      <td>0.088992</td>\n",
       "      <td>498</td>\n",
       "    </tr>\n",
       "    <tr>\n",
       "      <th>проведение свадьбы</th>\n",
       "      <td>0.074935</td>\n",
       "      <td>58</td>\n",
       "    </tr>\n",
       "  </tbody>\n",
       "</table>\n",
       "</div>"
      ],
      "text/plain": [
       "                              mean  sum\n",
       "                              debt debt\n",
       "purpose_category                       \n",
       "операции с автомобилем    0.093395  403\n",
       "операции с недвижимостью  0.072140  782\n",
       "получение образования     0.088992  498\n",
       "проведение свадьбы        0.074935   58"
      ]
     },
     "execution_count": 23,
     "metadata": {},
     "output_type": "execute_result"
    }
   ],
   "source": [
    "pd.pivot_table(df, index='purpose_category', values='debt',aggfunc=['mean','sum'])"
   ]
  },
  {
   "cell_type": "markdown",
   "id": "ec933924-b492-4662-a9fd-115cbba2ca44",
   "metadata": {},
   "source": [
    "# Итог:\n",
    "#### 1. Количество детей слабо влияет на возврат кредита в срок, влияет их отсутствие. Если сравнивать по количеству детей, чаще вовремя возвращают люди с тремя детьми.\n",
    "#### 2. Чаще всего кредит возвращают в срок вдовы/вдовцы, реже не женатые/не замужем и находящиеся в гражданском браке\n",
    "#### 3. В зависимости от уровня дохода чаще возвращают кредит в срок люди находящиеся между меньшим и средним уровнем дохода, а так же между средним и высоким, в то время как самые частые задолженности у людей находящихся в нижних/средних/высоких категориях, так же стоит отметить что среди людей чаще возвращающих кредит в срок, реже это делают люди с высшим уровнем дохода\n",
    "#### 4. В зависимости от целей кредита люди по разному возвращают кредит, реже возвращают вовремя владельцы автокредитов, затем идет кредит на образование, чаще кредиты связанные с недвижимостью и свадьбой"
   ]
  },
  {
   "cell_type": "code",
   "execution_count": null,
   "id": "ea122c1f-4563-4148-822e-6f733dad834f",
   "metadata": {},
   "outputs": [],
   "source": []
  }
 ],
 "metadata": {
  "kernelspec": {
   "display_name": "Python 3 (ipykernel)",
   "language": "python",
   "name": "python3"
  },
  "language_info": {
   "codemirror_mode": {
    "name": "ipython",
    "version": 3
   },
   "file_extension": ".py",
   "mimetype": "text/x-python",
   "name": "python",
   "nbconvert_exporter": "python",
   "pygments_lexer": "ipython3",
   "version": "3.11.7"
  }
 },
 "nbformat": 4,
 "nbformat_minor": 5
}
